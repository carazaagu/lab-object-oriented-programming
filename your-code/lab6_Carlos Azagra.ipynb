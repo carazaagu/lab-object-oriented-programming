{
 "cells": [
  {
   "cell_type": "markdown",
   "metadata": {},
   "source": [
    "# Before your start:\n",
    "- Read the README.md file\n",
    "- Comment as much as you can and use the resources in the README.md file\n",
    "- Happy learning!"
   ]
  },
  {
   "cell_type": "markdown",
   "metadata": {},
   "source": [
    "# Challenge 1 - Matrix Functions\n",
    "\n",
    "#### We would like to create our own matrix. To make life simple for us, we can represent matrices as a list of lists. For the sake of simplicity, we will assume that the maximum number of dimensions a matrix will have is 2.\n",
    "\n",
    "The most basic thing we would like to do with two matrices is to add them together. To add two matrices, we must perform a number of checks. The first check we would like to perform is whether the matrix is two dimesional. This is because we want to limit ourselves to two dimensional matrices to simplify our problem. In the cell below write a function that checks is a matrix is two dimesional. "
   ]
  },
  {
   "cell_type": "code",
   "execution_count": 2,
   "metadata": {},
   "outputs": [],
   "source": [
    "def twodim(mat):\n",
    "    # si (mat) no es una lista\n",
    "    if type(mat) != list:\n",
    "        return False\n",
    "    # si (mat) solamente tiene una dimensión - todos sus elementos no son listas\n",
    "    elif all([type(dim2) != list for dim2 in mat]):\n",
    "        return False   \n",
    "    # si (mat) tiene tres o más dimensiones - alguna de las iteraciones de sus iteraciones es una lista\n",
    "    elif any([type(dim3) == list for dim2 in mat for dim3 in dim2]):\n",
    "        return False\n",
    "    # si (mat) tiene dos dimensiones - alguna de sus iteraciones es una lista\n",
    "    elif any([type(dim2) == list for dim2 in mat]):\n",
    "        return True\n",
    "    else:\n",
    "        return False\n",
    "    "
   ]
  },
  {
   "cell_type": "code",
   "execution_count": 3,
   "metadata": {},
   "outputs": [
    {
     "data": {
      "text/plain": [
       "True"
      ]
     },
     "execution_count": 3,
     "metadata": {},
     "output_type": "execute_result"
    }
   ],
   "source": [
    "twodim([[1,2],[1,2,3],[1,2,3]])"
   ]
  },
  {
   "cell_type": "markdown",
   "metadata": {},
   "source": [
    "# Bonus Challenge 1 - Write the function recursively\n",
    "\n",
    "Rewrite the `twodim` function using recursion. \n",
    "Read more about recursion [here](https://www.cs.utah.edu/~germain/PPS/Topics/recursion.html)\n",
    "\n",
    "Hint: stop your recursion when there are no more lists, this wil be the depth of your matrix. Check that this depth is equal to 2.\n",
    "Second Hint: At every level of the recursion, use the filter function to keep only the members of the list that are lists."
   ]
  },
  {
   "cell_type": "code",
   "execution_count": 4,
   "metadata": {},
   "outputs": [],
   "source": [
    "def twodimrecursive(mat):\n",
    "    if all([isinstance(dim1, int) for dim1 in mat]):\n",
    "        return 1\n",
    "    else:\n",
    "        return 1 + max([twodimrecursive(ele) for ele in mat])  "
   ]
  },
  {
   "cell_type": "code",
   "execution_count": 5,
   "metadata": {},
   "outputs": [
    {
     "data": {
      "text/plain": [
       "2"
      ]
     },
     "execution_count": 5,
     "metadata": {},
     "output_type": "execute_result"
    }
   ],
   "source": [
    "twodimrecursive([[1,2,3],[1,2]])"
   ]
  },
  {
   "cell_type": "markdown",
   "metadata": {},
   "source": [
    "#### Next, we will write a function that checks for the number of rows and columns of a matrix. \n",
    "\n",
    "Recall that the outer list will tell us the number of rows and the inner lists will tell us the number of columns. Make sure that all inner lists are of the same length."
   ]
  },
  {
   "cell_type": "code",
   "execution_count": 6,
   "metadata": {},
   "outputs": [],
   "source": [
    "def rowcolumn(mat):\n",
    "    if twodim(mat):    \n",
    "        row = len(mat)\n",
    "        if len(set([len(i) for i in mat])) == 1:\n",
    "            column = list(set([len(i) for i in mat])).pop()\n",
    "            return row, column\n",
    "        else:\n",
    "            print(\"Inner lists have not the same length\")"
   ]
  },
  {
   "cell_type": "code",
   "execution_count": 7,
   "metadata": {},
   "outputs": [
    {
     "data": {
      "text/plain": [
       "(3, 4)"
      ]
     },
     "execution_count": 7,
     "metadata": {},
     "output_type": "execute_result"
    }
   ],
   "source": [
    "rowcolumn([[1,2,3,4],[1,2,3,4],[1,2,3,4]])"
   ]
  },
  {
   "cell_type": "markdown",
   "metadata": {},
   "source": [
    "#### Our next step is to write a function that compares two matrices and tells us whether they are of equal size.\n",
    "\n",
    "In this function we will check whether the number of rows and number of columns is the same."
   ]
  },
  {
   "cell_type": "code",
   "execution_count": 8,
   "metadata": {},
   "outputs": [],
   "source": [
    "def compare(mat, mat2):\n",
    "    return rowcolumn(mat) == rowcolumn(mat2)"
   ]
  },
  {
   "cell_type": "code",
   "execution_count": 9,
   "metadata": {},
   "outputs": [],
   "source": [
    "def compare2(mat, mat2):  \n",
    "    rows = [len(mat),len(mat2)]\n",
    "    columns = [list(set([len(i) for i in mat])).pop(), list(set([len(i) for i in mat2])).pop()]\n",
    "    return all([rows, columns])  "
   ]
  },
  {
   "cell_type": "code",
   "execution_count": 10,
   "metadata": {},
   "outputs": [
    {
     "data": {
      "text/plain": [
       "True"
      ]
     },
     "execution_count": 10,
     "metadata": {},
     "output_type": "execute_result"
    }
   ],
   "source": [
    "compare([[1,2,3],[4,5,6]],[[7,8,9],[10,11,12]])"
   ]
  },
  {
   "cell_type": "markdown",
   "metadata": {},
   "source": [
    "#### Now that we have all the tools we need, write a function that adds two matrices together. \n",
    "\n",
    "Remember that a matrix is represented as a list of lists. Therefore, we must add each element in the list. The plus symbol is used for concatenating two lists and not for adding every element in two lists."
   ]
  },
  {
   "cell_type": "code",
   "execution_count": 11,
   "metadata": {},
   "outputs": [],
   "source": [
    "def addition(mat, mat2):\n",
    "    if compare(mat, mat2):\n",
    "        addition_result = [[mat[i][j] + mat2[i][j]  for j in range(len(mat[0]))] for i in range(len(mat))]\n",
    "        return addition_result"
   ]
  },
  {
   "cell_type": "code",
   "execution_count": 12,
   "metadata": {},
   "outputs": [
    {
     "data": {
      "text/plain": [
       "[[8, 10, 12], [14, 16, 18]]"
      ]
     },
     "execution_count": 12,
     "metadata": {},
     "output_type": "execute_result"
    }
   ],
   "source": [
    "addition([[1,2,3],[4,5,6]],[[7,8,9],[10,11,12]])"
   ]
  },
  {
   "cell_type": "markdown",
   "metadata": {},
   "source": [
    "# Challenge 2 - Creating the Class\n",
    "\n",
    "In the cell below, you will be creating the class Matrix2D. Use the functions you have written above and tweak them according to the instructions in the comments. You got this!"
   ]
  },
  {
   "cell_type": "code",
   "execution_count": 13,
   "metadata": {},
   "outputs": [],
   "source": [
    "class Matrix2D:\n",
    "    \n",
    "    def __init__(self, mat):\n",
    "        self.mat = mat\n",
    "        self.row = (self.rowcolumn(mat))[0]\n",
    "        self.column = (self.rowcolumn(mat))[1]\n",
    "                \n",
    "    def twodim(self, mat):\n",
    "        if type(mat) != list:\n",
    "            return False\n",
    "        elif all([type(dim2) != list for dim2 in mat]):\n",
    "            return False\n",
    "        elif any([type(dim3) == list for dim2 in mat for dim3 in dim2]):\n",
    "            return False\n",
    "        elif any([type(dim2) == list for dim2 in mat]):\n",
    "            return True\n",
    "        else:\n",
    "            return False\n",
    "    \n",
    "    def rowcolumn(self, mat):      \n",
    "        if self.twodim(mat):    \n",
    "            row = len(mat)\n",
    "            if len(set([len(i) for i in mat])) == 1:\n",
    "                column = list(set([len(i) for i in mat])).pop()\n",
    "                return row, column\n",
    "            else:\n",
    "                print(\"Inner lists have not the same length\")\n",
    "    \n",
    "    def compare(self, mat, matrix):\n",
    "        return self.rowcolumn(mat) == self.rowcolumn(matrix)\n",
    "\n",
    "    def addition(self, matrix):\n",
    "        if self.compare(self.mat, matrix.mat):\n",
    "            addition_result = [[self.mat[i][j] + matrix.mat[i][j] for j in range(len(self.mat[0]))] for i in range(len(self.mat))]\n",
    "            return Matrix2D(addition_result)"
   ]
  },
  {
   "cell_type": "code",
   "execution_count": 14,
   "metadata": {},
   "outputs": [
    {
     "data": {
      "text/plain": [
       "[[8, 10, 12], [14, 16, 18]]"
      ]
     },
     "execution_count": 14,
     "metadata": {},
     "output_type": "execute_result"
    }
   ],
   "source": [
    "Matrix2D([[1,2,3],[4,5,6]]).addition(Matrix2D([[7,8,9],[10,11,12]])).mat"
   ]
  },
  {
   "cell_type": "markdown",
   "metadata": {},
   "source": [
    "# Bonus Challenge 2 - Transpose Function\n",
    "\n",
    "#### Write a function that transposes the matrix and add it to your class.\n",
    "\n",
    "You can read more about the transpose of a matrix [here](https://en.wikipedia.org/wiki/Transpose).\n",
    "\n",
    "Hint: Use the zip function. Read about it [here](https://docs.python.org/3.3/library/functions.html#zip)\n",
    "\n",
    "Second Hint: Read about the asterisk in Python [here](https://docs.python.org/3/reference/expressions.html#expression-lists)"
   ]
  },
  {
   "cell_type": "code",
   "execution_count": 15,
   "metadata": {},
   "outputs": [],
   "source": [
    "def transpose1(mat):\n",
    "    return list(zip(*mat))"
   ]
  },
  {
   "cell_type": "code",
   "execution_count": 16,
   "metadata": {},
   "outputs": [
    {
     "data": {
      "text/plain": [
       "[(1, 4), (2, 5), (3, 6)]"
      ]
     },
     "execution_count": 16,
     "metadata": {},
     "output_type": "execute_result"
    }
   ],
   "source": [
    "transpose1([[1,2,3],[4,5,6]])"
   ]
  },
  {
   "cell_type": "code",
   "execution_count": 17,
   "metadata": {},
   "outputs": [],
   "source": [
    "def transpose2(mat):    \n",
    "    return [[i,x] for i,x in zip(mat[0], mat[1])]"
   ]
  },
  {
   "cell_type": "code",
   "execution_count": 18,
   "metadata": {},
   "outputs": [
    {
     "data": {
      "text/plain": [
       "[[1, 4], [2, 5], [3, 6]]"
      ]
     },
     "execution_count": 18,
     "metadata": {},
     "output_type": "execute_result"
    }
   ],
   "source": [
    "transpose2([[1,2,3],[4,5,6]])"
   ]
  },
  {
   "cell_type": "code",
   "execution_count": 19,
   "metadata": {},
   "outputs": [],
   "source": [
    "class Matrix2D:\n",
    "    \n",
    "    def __init__(self, mat):\n",
    "        self.mat = mat\n",
    "        self.row = (self.rowcolumn(mat))[0]\n",
    "        self.column = (self.rowcolumn(mat))[1]\n",
    "                \n",
    "    def twodim(self, mat):\n",
    "        if type(mat) != list:\n",
    "            return False\n",
    "        elif all([type(dim2) != list for dim2 in mat]):\n",
    "            return False\n",
    "        elif any([type(dim3) == list for dim2 in mat for dim3 in dim2]):\n",
    "            return False\n",
    "        elif any([type(dim2) == list for dim2 in mat]):\n",
    "            return True\n",
    "        else:\n",
    "            return False\n",
    "    \n",
    "    def rowcolumn(self, mat):      \n",
    "        if self.twodim(mat):    \n",
    "            row = len(mat)\n",
    "            if len(set([len(i) for i in mat])) == 1:\n",
    "                column = list(set([len(i) for i in mat])).pop()\n",
    "                return row, column\n",
    "            else:\n",
    "                print(\"Inner lists have not the same length\")\n",
    "    \n",
    "    def compare(self, mat, matrix):\n",
    "        return self.rowcolumn(mat) == self.rowcolumn(matrix)\n",
    "\n",
    "    def addition(self, matrix):\n",
    "        if self.compare(self.mat, matrix.mat):\n",
    "            addition_result = [[self.mat[i][j] + matrix.mat[i][j] for j in range(len(self.mat[0]))] for i in range(len(self.mat))]\n",
    "            return Matrix2D(addition_result)\n",
    "    \n",
    "    def transpose1(self, mat):\n",
    "        return list(zip(*mat))"
   ]
  }
 ],
 "metadata": {
  "kernelspec": {
   "display_name": "Python 3",
   "language": "python",
   "name": "python3"
  },
  "language_info": {
   "codemirror_mode": {
    "name": "ipython",
    "version": 3
   },
   "file_extension": ".py",
   "mimetype": "text/x-python",
   "name": "python",
   "nbconvert_exporter": "python",
   "pygments_lexer": "ipython3",
   "version": "3.8.3"
  },
  "toc": {
   "base_numbering": 1,
   "nav_menu": {},
   "number_sections": true,
   "sideBar": true,
   "skip_h1_title": false,
   "title_cell": "Table of Contents",
   "title_sidebar": "Contents",
   "toc_cell": false,
   "toc_position": {},
   "toc_section_display": true,
   "toc_window_display": false
  },
  "varInspector": {
   "cols": {
    "lenName": 16,
    "lenType": 16,
    "lenVar": 40
   },
   "kernels_config": {
    "python": {
     "delete_cmd_postfix": "",
     "delete_cmd_prefix": "del ",
     "library": "var_list.py",
     "varRefreshCmd": "print(var_dic_list())"
    },
    "r": {
     "delete_cmd_postfix": ") ",
     "delete_cmd_prefix": "rm(",
     "library": "var_list.r",
     "varRefreshCmd": "cat(var_dic_list()) "
    }
   },
   "types_to_exclude": [
    "module",
    "function",
    "builtin_function_or_method",
    "instance",
    "_Feature"
   ],
   "window_display": false
  }
 },
 "nbformat": 4,
 "nbformat_minor": 2
}
